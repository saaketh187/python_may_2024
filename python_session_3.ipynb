{
 "cells": [
  {
   "cell_type": "markdown",
   "id": "1f8eabe3-5512-47bd-9705-63aa61cf4556",
   "metadata": {},
   "source": [
    "## type casting"
   ]
  },
  {
   "cell_type": "markdown",
   "id": "2e5df058-0f86-4d75-89e0-e8a63583133e",
   "metadata": {},
   "source": [
    "convert one data type to another data type\n",
    "- integer\n",
    "- float \n",
    "- string\n",
    "- boolean\n",
    "\n",
    "## integer to all other data type"
   ]
  },
  {
   "cell_type": "markdown",
   "id": "b1ba7e15-18dd-42a1-8d2a-f9e9f0144a44",
   "metadata": {},
   "source": [
    "- integer to float\n",
    "- integer to string\n",
    "- integer to boolean"
   ]
  },
  {
   "cell_type": "code",
   "execution_count": 2,
   "id": "74fc4fb9-0d68-4d90-973d-62a1c472dd43",
   "metadata": {},
   "outputs": [
    {
     "data": {
      "text/plain": [
       "int"
      ]
     },
     "execution_count": 2,
     "metadata": {},
     "output_type": "execute_result"
    }
   ],
   "source": [
    "number=100\n",
    "type(number)"
   ]
  },
  {
   "cell_type": "code",
   "execution_count": 3,
   "id": "4db61656-a36b-4b4c-b40c-c9c6f7174ae7",
   "metadata": {},
   "outputs": [],
   "source": [
    "number_float=float(number)"
   ]
  },
  {
   "cell_type": "code",
   "execution_count": 4,
   "id": "c0ecb301-70b2-4b61-92b2-ec0c6afd8f88",
   "metadata": {},
   "outputs": [
    {
     "data": {
      "text/plain": [
       "(100, 100.0)"
      ]
     },
     "execution_count": 4,
     "metadata": {},
     "output_type": "execute_result"
    }
   ],
   "source": [
    "number,number_float"
   ]
  },
  {
   "cell_type": "code",
   "execution_count": 5,
   "id": "7639cc79-9f6c-42b3-98f7-c71f52c37225",
   "metadata": {},
   "outputs": [
    {
     "data": {
      "text/plain": [
       "(int, float)"
      ]
     },
     "execution_count": 5,
     "metadata": {},
     "output_type": "execute_result"
    }
   ],
   "source": [
    "type(number),type(number_float)"
   ]
  },
  {
   "cell_type": "code",
   "execution_count": 6,
   "id": "d789bc30-627a-40c0-b4ff-e2a411c8de18",
   "metadata": {},
   "outputs": [
    {
     "data": {
      "text/plain": [
       "(100, 100.0, '100')"
      ]
     },
     "execution_count": 6,
     "metadata": {},
     "output_type": "execute_result"
    }
   ],
   "source": [
    "number_string=str(number)\n",
    "number,number_float,number_string"
   ]
  },
  {
   "cell_type": "code",
   "execution_count": 7,
   "id": "15323899-8c02-4f60-9994-d278164853e3",
   "metadata": {},
   "outputs": [
    {
     "data": {
      "text/plain": [
       "(int, float, str)"
      ]
     },
     "execution_count": 7,
     "metadata": {},
     "output_type": "execute_result"
    }
   ],
   "source": [
    "type(number),type(number_float),type(number_string)"
   ]
  },
  {
   "cell_type": "code",
   "execution_count": 9,
   "id": "01ce32c9-f758-46bb-9eea-14f37766feea",
   "metadata": {},
   "outputs": [
    {
     "data": {
      "text/plain": [
       "True"
      ]
     },
     "execution_count": 9,
     "metadata": {},
     "output_type": "execute_result"
    }
   ],
   "source": [
    "number_bool=bool(number)\n",
    "number_bool"
   ]
  },
  {
   "cell_type": "code",
   "execution_count": 10,
   "id": "db596605-be00-4cd7-b044-dbfc0c08e705",
   "metadata": {},
   "outputs": [
    {
     "data": {
      "text/plain": [
       "(100, 100.0, '100', True)"
      ]
     },
     "execution_count": 10,
     "metadata": {},
     "output_type": "execute_result"
    }
   ],
   "source": [
    "number,number_float,number_string,number_bool"
   ]
  },
  {
   "cell_type": "code",
   "execution_count": 11,
   "id": "a9443a76-f5a3-4a15-a175-7d6299e5ca95",
   "metadata": {},
   "outputs": [
    {
     "data": {
      "text/plain": [
       "(187, 187.0, '187', True)"
      ]
     },
     "execution_count": 11,
     "metadata": {},
     "output_type": "execute_result"
    }
   ],
   "source": [
    "number1=187\n",
    "number1_float=float(number1)\n",
    "number1_string=str(number1)\n",
    "number1_boolean=bool(number1)\n",
    "number1,number1_float,number1_string,number1_boolean"
   ]
  },
  {
   "cell_type": "code",
   "execution_count": 12,
   "id": "df22b611-ec99-443a-8fab-5ac512a73830",
   "metadata": {},
   "outputs": [
    {
     "data": {
      "text/plain": [
       "(True, True, False)"
      ]
     },
     "execution_count": 12,
     "metadata": {},
     "output_type": "execute_result"
    }
   ],
   "source": [
    "bool(17),bool(0.1),bool(0)"
   ]
  },
  {
   "cell_type": "markdown",
   "id": "0e6f9b97-705f-4841-b7bf-227897b860c1",
   "metadata": {},
   "source": [
    "## note"
   ]
  },
  {
   "cell_type": "markdown",
   "id": "c88a01e7-3cd5-46e1-b4c0-62ab29efbd5b",
   "metadata": {},
   "source": [
    "- boolean conversion of 0 gives false\n",
    "- boolean conversion of 1 gives true"
   ]
  },
  {
   "cell_type": "markdown",
   "id": "b9d8de0a-65d0-4abd-8554-ffce74e4eb7b",
   "metadata": {},
   "source": [
    "## float to all other data types"
   ]
  },
  {
   "cell_type": "markdown",
   "id": "269a1933-1f4f-4a21-8228-a51963abc695",
   "metadata": {},
   "source": [
    "- float to integer \n",
    "- float to string\n",
    "- float to boolean"
   ]
  },
  {
   "cell_type": "code",
   "execution_count": 14,
   "id": "3b5d3d8a-8599-418e-89ce-03de5666a08a",
   "metadata": {},
   "outputs": [
    {
     "data": {
      "text/plain": [
       "(100, '100.24')"
      ]
     },
     "execution_count": 14,
     "metadata": {},
     "output_type": "execute_result"
    }
   ],
   "source": [
    "number2=100.24\n",
    "int(number2),str(number2)"
   ]
  },
  {
   "cell_type": "code",
   "execution_count": 16,
   "id": "9eaec751-6aad-4734-a84d-e61725f3fcdb",
   "metadata": {},
   "outputs": [
    {
     "data": {
      "text/plain": [
       "(100, '100.9', True, False)"
      ]
     },
     "execution_count": 16,
     "metadata": {},
     "output_type": "execute_result"
    }
   ],
   "source": [
    "number2=100.90\n",
    "int(number2),str(number2),bool(number2),bool(0.0)"
   ]
  },
  {
   "cell_type": "markdown",
   "id": "f88f3eb5-68d0-469b-ac70-43dc5b9802cb",
   "metadata": {},
   "source": [
    "## string to all other data type"
   ]
  },
  {
   "cell_type": "markdown",
   "id": "e27dce4b-629a-4aad-95d7-6ce2fc537740",
   "metadata": {},
   "source": [
    "- string to integer\n",
    "- string to float \n",
    "- string to boolean"
   ]
  },
  {
   "cell_type": "markdown",
   "id": "008e78a5-9c3a-4d77-a243-f0f8ddf6fdde",
   "metadata": {},
   "source": [
    "## case 1"
   ]
  },
  {
   "cell_type": "code",
   "execution_count": 21,
   "id": "c8b0028c-c233-48d0-b674-ec98eb45c499",
   "metadata": {},
   "outputs": [
    {
     "data": {
      "text/plain": [
       "100"
      ]
     },
     "execution_count": 21,
     "metadata": {},
     "output_type": "execute_result"
    }
   ],
   "source": [
    "int('100')\n",
    "\n",
    "\n"
   ]
  },
  {
   "cell_type": "code",
   "execution_count": 22,
   "id": "861cca7c-6095-4cf4-be17-f603bfc73827",
   "metadata": {},
   "outputs": [
    {
     "data": {
      "text/plain": [
       "100.0"
      ]
     },
     "execution_count": 22,
     "metadata": {},
     "output_type": "execute_result"
    }
   ],
   "source": [
    "float('100')"
   ]
  },
  {
   "cell_type": "code",
   "execution_count": 23,
   "id": "7bc71251-dc28-4221-827b-d993c9324bf8",
   "metadata": {},
   "outputs": [
    {
     "data": {
      "text/plain": [
       "True"
      ]
     },
     "execution_count": 23,
     "metadata": {},
     "output_type": "execute_result"
    }
   ],
   "source": [
    "bool('100')"
   ]
  },
  {
   "cell_type": "markdown",
   "id": "cfee6cb9-901f-4833-9d16-af3095f5e8e4",
   "metadata": {},
   "source": [
    "## case2"
   ]
  },
  {
   "cell_type": "code",
   "execution_count": 24,
   "id": "17c7b243-1ae5-4f67-bec9-b963359ec703",
   "metadata": {},
   "outputs": [
    {
     "ename": "ValueError",
     "evalue": "invalid literal for int() with base 10: '100.89'",
     "output_type": "error",
     "traceback": [
      "\u001b[1;31m---------------------------------------------------------------------------\u001b[0m",
      "\u001b[1;31mValueError\u001b[0m                                Traceback (most recent call last)",
      "Cell \u001b[1;32mIn[24], line 1\u001b[0m\n\u001b[1;32m----> 1\u001b[0m \u001b[38;5;28mint\u001b[39m(\u001b[38;5;124m'\u001b[39m\u001b[38;5;124m100.89\u001b[39m\u001b[38;5;124m'\u001b[39m)\n",
      "\u001b[1;31mValueError\u001b[0m: invalid literal for int() with base 10: '100.89'"
     ]
    }
   ],
   "source": [
    "int('100.89')\n"
   ]
  },
  {
   "cell_type": "code",
   "execution_count": 25,
   "id": "fd3dcb39-4ab2-4ffe-bf3c-7d3a56fa8807",
   "metadata": {},
   "outputs": [
    {
     "data": {
      "text/plain": [
       "100.98"
      ]
     },
     "execution_count": 25,
     "metadata": {},
     "output_type": "execute_result"
    }
   ],
   "source": [
    "float('100.98')"
   ]
  },
  {
   "cell_type": "code",
   "execution_count": 26,
   "id": "87c9ab66-89dd-4ca6-9a81-fb9a55870fbe",
   "metadata": {},
   "outputs": [
    {
     "data": {
      "text/plain": [
       "True"
      ]
     },
     "execution_count": 26,
     "metadata": {},
     "output_type": "execute_result"
    }
   ],
   "source": [
    "bool('100.9')"
   ]
  },
  {
   "cell_type": "markdown",
   "id": "323b7885-4051-4c2f-bfe7-8f7136b66fd1",
   "metadata": {},
   "source": [
    "**note**"
   ]
  },
  {
   "cell_type": "markdown",
   "id": "211de8da-6a37-4ba7-af96-247c9223e495",
   "metadata": {},
   "source": [
    "- float will not give error\n",
    "- int conversion of float value in string format will fail"
   ]
  },
  {
   "cell_type": "code",
   "execution_count": 28,
   "id": "7c333307-5236-4b3e-8a1e-52a5bd6834c8",
   "metadata": {},
   "outputs": [
    {
     "data": {
      "text/plain": [
       "100"
      ]
     },
     "execution_count": 28,
     "metadata": {},
     "output_type": "execute_result"
    }
   ],
   "source": [
    "int(100)"
   ]
  },
  {
   "cell_type": "markdown",
   "id": "8b517648-2dff-4c3c-bc1e-6f27478e7018",
   "metadata": {},
   "source": [
    "int('100.33')\n"
   ]
  },
  {
   "cell_type": "code",
   "execution_count": 30,
   "id": "f7579a3a-9330-4dd9-b696-825252029030",
   "metadata": {},
   "outputs": [
    {
     "data": {
      "text/plain": [
       "100"
      ]
     },
     "execution_count": 30,
     "metadata": {},
     "output_type": "execute_result"
    }
   ],
   "source": [
    "int(100.25)"
   ]
  },
  {
   "cell_type": "code",
   "execution_count": 31,
   "id": "3e24e58e-365e-423b-8846-2d5706fe4177",
   "metadata": {},
   "outputs": [
    {
     "data": {
      "text/plain": [
       "100"
      ]
     },
     "execution_count": 31,
     "metadata": {},
     "output_type": "execute_result"
    }
   ],
   "source": [
    "int('100')"
   ]
  },
  {
   "cell_type": "markdown",
   "id": "76f6da6a-7d0c-4f6e-8b13-779b58effbf2",
   "metadata": {},
   "source": [
    "## case3"
   ]
  },
  {
   "cell_type": "code",
   "execution_count": 3,
   "id": "817c4ea5-b7f1-4b2e-b727-8b4807635214",
   "metadata": {},
   "outputs": [
    {
     "ename": "ValueError",
     "evalue": "invalid literal for int() with base 10: 'python'",
     "output_type": "error",
     "traceback": [
      "\u001b[1;31m---------------------------------------------------------------------------\u001b[0m",
      "\u001b[1;31mValueError\u001b[0m                                Traceback (most recent call last)",
      "Cell \u001b[1;32mIn[3], line 1\u001b[0m\n\u001b[1;32m----> 1\u001b[0m \u001b[38;5;28mint\u001b[39m(\u001b[38;5;124m'\u001b[39m\u001b[38;5;124mpython\u001b[39m\u001b[38;5;124m'\u001b[39m)\n",
      "\u001b[1;31mValueError\u001b[0m: invalid literal for int() with base 10: 'python'"
     ]
    }
   ],
   "source": [
    "int('python')"
   ]
  },
  {
   "cell_type": "code",
   "execution_count": 1,
   "id": "4b2a2ce2-8be2-44e6-a5e4-57a2f8535aff",
   "metadata": {},
   "outputs": [
    {
     "ename": "ValueError",
     "evalue": "could not convert string to float: 'python'",
     "output_type": "error",
     "traceback": [
      "\u001b[1;31m---------------------------------------------------------------------------\u001b[0m",
      "\u001b[1;31mValueError\u001b[0m                                Traceback (most recent call last)",
      "Cell \u001b[1;32mIn[1], line 1\u001b[0m\n\u001b[1;32m----> 1\u001b[0m \u001b[38;5;28mfloat\u001b[39m(\u001b[38;5;124m'\u001b[39m\u001b[38;5;124mpython\u001b[39m\u001b[38;5;124m'\u001b[39m)\n",
      "\u001b[1;31mValueError\u001b[0m: could not convert string to float: 'python'"
     ]
    }
   ],
   "source": [
    "float('python')"
   ]
  },
  {
   "cell_type": "code",
   "execution_count": 2,
   "id": "d5234541-259e-41f0-b8af-37284cccb93f",
   "metadata": {},
   "outputs": [
    {
     "data": {
      "text/plain": [
       "True"
      ]
     },
     "execution_count": 2,
     "metadata": {},
     "output_type": "execute_result"
    }
   ],
   "source": [
    "bool('python')"
   ]
  },
  {
   "cell_type": "code",
   "execution_count": 35,
   "id": "c2cf9fc3-9d52-4e95-9deb-1f6c2e8cf35d",
   "metadata": {},
   "outputs": [
    {
     "data": {
      "text/plain": [
       "True"
      ]
     },
     "execution_count": 35,
     "metadata": {},
     "output_type": "execute_result"
    }
   ],
   "source": [
    "bool('100')"
   ]
  },
  {
   "cell_type": "code",
   "execution_count": 36,
   "id": "adcb21ee-c909-4255-8df1-eea77781d0e1",
   "metadata": {},
   "outputs": [
    {
     "data": {
      "text/plain": [
       "True"
      ]
     },
     "execution_count": 36,
     "metadata": {},
     "output_type": "execute_result"
    }
   ],
   "source": [
    "bool('100.23')"
   ]
  },
  {
   "cell_type": "code",
   "execution_count": 37,
   "id": "2b1438c4-c95a-4c4b-bef9-69007b381749",
   "metadata": {},
   "outputs": [
    {
     "data": {
      "text/plain": [
       "True"
      ]
     },
     "execution_count": 37,
     "metadata": {},
     "output_type": "execute_result"
    }
   ],
   "source": [
    "bool('0')"
   ]
  },
  {
   "cell_type": "code",
   "execution_count": 38,
   "id": "91246d86-d0a6-4839-b656-5f35a69781db",
   "metadata": {},
   "outputs": [
    {
     "data": {
      "text/plain": [
       "True"
      ]
     },
     "execution_count": 38,
     "metadata": {},
     "output_type": "execute_result"
    }
   ],
   "source": [
    "bool('0.0')"
   ]
  },
  {
   "cell_type": "code",
   "execution_count": 39,
   "id": "6af33ffc-65da-4774-9682-da3aaf3ecd4c",
   "metadata": {},
   "outputs": [
    {
     "data": {
      "text/plain": [
       "True"
      ]
     },
     "execution_count": 39,
     "metadata": {},
     "output_type": "execute_result"
    }
   ],
   "source": [
    "bool('python')"
   ]
  },
  {
   "cell_type": "code",
   "execution_count": 40,
   "id": "4bc4c11a-faac-4dd5-b0aa-6c5e9d6c5936",
   "metadata": {},
   "outputs": [
    {
     "data": {
      "text/plain": [
       "True"
      ]
     },
     "execution_count": 40,
     "metadata": {},
     "output_type": "execute_result"
    }
   ],
   "source": [
    "bool(100)"
   ]
  },
  {
   "cell_type": "code",
   "execution_count": 41,
   "id": "6142185d-f6c4-4cbe-a5a5-02780858038c",
   "metadata": {},
   "outputs": [
    {
     "data": {
      "text/plain": [
       "True"
      ]
     },
     "execution_count": 41,
     "metadata": {},
     "output_type": "execute_result"
    }
   ],
   "source": [
    "bool(-100)"
   ]
  },
  {
   "cell_type": "code",
   "execution_count": 42,
   "id": "50ee2cf9-9017-4f09-8778-8624c787f087",
   "metadata": {},
   "outputs": [
    {
     "data": {
      "text/plain": [
       "False"
      ]
     },
     "execution_count": 42,
     "metadata": {},
     "output_type": "execute_result"
    }
   ],
   "source": [
    "bool(0)"
   ]
  },
  {
   "cell_type": "code",
   "execution_count": 43,
   "id": "f116b874-631a-4fd8-a007-8eeef7beae3f",
   "metadata": {},
   "outputs": [
    {
     "data": {
      "text/plain": [
       "False"
      ]
     },
     "execution_count": 43,
     "metadata": {},
     "output_type": "execute_result"
    }
   ],
   "source": [
    "bool(0.0)"
   ]
  },
  {
   "cell_type": "code",
   "execution_count": 44,
   "id": "89476f20-9929-420c-8dcf-3ebe5b1e7ca4",
   "metadata": {},
   "outputs": [
    {
     "data": {
      "text/plain": [
       "True"
      ]
     },
     "execution_count": 44,
     "metadata": {},
     "output_type": "execute_result"
    }
   ],
   "source": [
    "bool(-100.24)"
   ]
  },
  {
   "cell_type": "code",
   "execution_count": 45,
   "id": "9a1959e9-9cc9-46ab-ac14-7d62025a7c82",
   "metadata": {},
   "outputs": [
    {
     "data": {
      "text/plain": [
       "False"
      ]
     },
     "execution_count": 45,
     "metadata": {},
     "output_type": "execute_result"
    }
   ],
   "source": [
    "bool('')"
   ]
  },
  {
   "cell_type": "markdown",
   "id": "8a79db33-98db-4120-8863-44b24e19f7fa",
   "metadata": {},
   "source": [
    "## boolean to all other data types"
   ]
  },
  {
   "cell_type": "code",
   "execution_count": 46,
   "id": "a907364e-b5a4-4713-a36d-2eb42d19a1d3",
   "metadata": {},
   "outputs": [
    {
     "data": {
      "text/plain": [
       "True"
      ]
     },
     "execution_count": 46,
     "metadata": {},
     "output_type": "execute_result"
    }
   ],
   "source": [
    "bool(100)"
   ]
  },
  {
   "cell_type": "code",
   "execution_count": 47,
   "id": "4895356e-721b-4eec-bb57-c65141033041",
   "metadata": {},
   "outputs": [
    {
     "data": {
      "text/plain": [
       "True"
      ]
     },
     "execution_count": 47,
     "metadata": {},
     "output_type": "execute_result"
    }
   ],
   "source": [
    "bool(100.25)"
   ]
  },
  {
   "cell_type": "code",
   "execution_count": 48,
   "id": "99e7bedf-6b0a-406a-94d7-4eaf8d97e717",
   "metadata": {},
   "outputs": [
    {
     "data": {
      "text/plain": [
       "True"
      ]
     },
     "execution_count": 48,
     "metadata": {},
     "output_type": "execute_result"
    }
   ],
   "source": [
    "bool('saaketh')"
   ]
  },
  {
   "cell_type": "code",
   "execution_count": 50,
   "id": "c3bb01e9-25f0-4c9a-92fa-db99b6914d2d",
   "metadata": {},
   "outputs": [
    {
     "data": {
      "text/plain": [
       "True"
      ]
     },
     "execution_count": 50,
     "metadata": {},
     "output_type": "execute_result"
    }
   ],
   "source": [
    "bool(True)"
   ]
  },
  {
   "cell_type": "code",
   "execution_count": 53,
   "id": "f4368be1-12b9-427d-930b-d34475f131f3",
   "metadata": {},
   "outputs": [
    {
     "name": "stdout",
     "output_type": "stream",
     "text": [
      "saaketh\n"
     ]
    }
   ],
   "source": [
    "print('saaketh')"
   ]
  },
  {
   "cell_type": "code",
   "execution_count": null,
   "id": "1d133d6b-d250-4b6e-a007-c8bbe40e9aff",
   "metadata": {},
   "outputs": [],
   "source": []
  }
 ],
 "metadata": {
  "kernelspec": {
   "display_name": "Python 3 (ipykernel)",
   "language": "python",
   "name": "python3"
  },
  "language_info": {
   "codemirror_mode": {
    "name": "ipython",
    "version": 3
   },
   "file_extension": ".py",
   "mimetype": "text/x-python",
   "name": "python",
   "nbconvert_exporter": "python",
   "pygments_lexer": "ipython3",
   "version": "3.11.7"
  }
 },
 "nbformat": 4,
 "nbformat_minor": 5
}
