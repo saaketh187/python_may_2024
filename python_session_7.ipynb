{
 "cells": [
  {
   "cell_type": "markdown",
   "id": "beef32d3-5a5b-437b-aacc-c4276c4104d8",
   "metadata": {},
   "source": [
    "# q1) wap ask the user enter two numbers from keyword\n",
    "- print addition\n",
    "- print subtraction\n",
    "- print multiplication\n",
    "- print division using f string method"
   ]
  },
  {
   "cell_type": "code",
   "execution_count": 14,
   "id": "f6913328-cf1c-46f5-a74e-97d6c476fe07",
   "metadata": {},
   "outputs": [
    {
     "name": "stdin",
     "output_type": "stream",
     "text": [
      "enter the num1: 50\n",
      "enter the num2: 2\n"
     ]
    },
    {
     "name": "stdout",
     "output_type": "stream",
     "text": [
      "the addition of 50 and 2 is 52\n",
      "the subtraction of 50 and 2 is 48\n",
      "the multiplication of 50 and 2 is 100\n",
      "the division of 50 and 2 is 25\n"
     ]
    }
   ],
   "source": [
    "import random\n",
    "import time\n",
    "n1=eval(input(\"enter the num1:\"))\n",
    "n2=eval(input(\"enter the num2:\"))\n",
    "add=n1+n2\n",
    "sub=n1-n2\n",
    "mul=n1*n2\n",
    "div=round(n1/n2)\n",
    "print(f\"the addition of {n1} and {n2} is {add}\")\n",
    "time.sleep(2)\n",
    "print(f\"the subtraction of {n1} and {n2} is {sub}\")\n",
    "time.sleep(2)\n",
    "print(f\"the multiplication of {n1} and {n2} is {mul}\")\n",
    "time.sleep(2)\n",
    "print(f\"the division of {n1} and {n2} is {div}\")\n"
   ]
  },
  {
   "cell_type": "markdown",
   "id": "85fb5708-dba4-4087-baeb-6d0e6dcc3aec",
   "metadata": {},
   "source": [
    "- q2) ask the enter the bill\n",
    "- ask the user how much tip percentage \n",
    "- calculate the total bill\n",
    "- 1000 rs\n",
    "- 10% : 100\n",
    "- 1000+100"
   ]
  },
  {
   "cell_type": "code",
   "execution_count": 6,
   "id": "e66685ef-8d23-4e95-a826-ac029626ab00",
   "metadata": {},
   "outputs": [
    {
     "name": "stdin",
     "output_type": "stream",
     "text": [
      "enter the bill: 1000\n",
      "enter the tip percentage: 10\n"
     ]
    },
    {
     "name": "stdout",
     "output_type": "stream",
     "text": [
      "the total bill is: 1100.0\n"
     ]
    }
   ],
   "source": [
    "bill=eval(input(\"enter the bill:\"))\n",
    "tip_per=eval(input(\"enter the tip percentage:\"))\n",
    "tip_amount=tip_per*bill/100\n",
    "total_bill=bill+tip_amount\n",
    "print(\"the total bill is:\",total_bill)"
   ]
  },
  {
   "cell_type": "markdown",
   "id": "b6e9375f-9a36-4e59-9a7f-fc897a33a207",
   "metadata": {},
   "source": [
    "- q3) ask the enter the weights in kgs\n",
    "- display the answer in pounds \n",
    "- 1kg=2.2 pounds"
   ]
  },
  {
   "cell_type": "code",
   "execution_count": 12,
   "id": "42293258-9072-4cbc-a462-42acff958b44",
   "metadata": {},
   "outputs": [
    {
     "name": "stdin",
     "output_type": "stream",
     "text": [
      "enter the weights: 100\n",
      "enter the pounds: 12\n"
     ]
    },
    {
     "name": "stdout",
     "output_type": "stream",
     "text": [
      "the weights in pounds is220.0\n"
     ]
    }
   ],
   "source": [
    "kgs=eval(input(\"enter the weights:\"))\n",
    "pounds=eval(input(\"enter the pounds:\"))\n",
    "weight_pound=round(kgs*2.2,2)\n",
    "print(f\"the weights in pounds is {weight_pound}\")\n",
    "            "
   ]
  },
  {
   "cell_type": "code",
   "execution_count": 10,
   "id": "7895091a-c5d2-4807-bc2a-83913da7aacc",
   "metadata": {},
   "outputs": [
    {
     "name": "stdout",
     "output_type": "stream",
     "text": [
      "the addition of 25 and 16 is 41\n"
     ]
    }
   ],
   "source": [
    "import random\n",
    "n1=random.randint(1,100)\n",
    "n2=random.randint(1,100)\n",
    "add=n1+n2\n",
    "print(f'the addition of {n1} and {n2} is {add}')\n"
   ]
  },
  {
   "cell_type": "code",
   "execution_count": 2,
   "id": "484dac39-a1a5-468c-8ecf-338894cba8e2",
   "metadata": {},
   "outputs": [
    {
     "name": "stdin",
     "output_type": "stream",
     "text": [
      "enter the bill: 2000\n",
      "enter the percentage: 20\n"
     ]
    },
    {
     "name": "stdout",
     "output_type": "stream",
     "text": [
      "the total bill is: 2400.0\n"
     ]
    }
   ],
   "source": [
    "bill=eval(input(\"enter the bill:\"))\n",
    "percentage=eval(input(\"enter the percentage:\"))\n",
    "tip_per=percentage*bill/100\n",
    "total_bill=bill+tip_per\n",
    "print(f\"the total bill is: {total_bill}\")"
   ]
  },
  {
   "cell_type": "code",
   "execution_count": 20,
   "id": "7451f51c-0feb-4b35-8ccb-8240e5326875",
   "metadata": {},
   "outputs": [
    {
     "name": "stdin",
     "output_type": "stream",
     "text": [
      "enter the weight: 2.2\n",
      "enter the pounds per kg: 2.2\n"
     ]
    },
    {
     "name": "stdout",
     "output_type": "stream",
     "text": [
      "weight in pounds:4.84\n"
     ]
    }
   ],
   "source": [
    "weight=eval(input(\"enter the weight:\"))\n",
    "pounds=eval(input(\"enter the pounds per kg:\"))\n",
    "weight_pounds=round(weight*pounds,3)\n",
    "print(f\"weight in pounds:{weight_pounds}\")"
   ]
  },
  {
   "cell_type": "code",
   "execution_count": 24,
   "id": "08bed2c4-f829-4c3b-9704-6faf804edda1",
   "metadata": {},
   "outputs": [
    {
     "name": "stdout",
     "output_type": "stream",
     "text": [
      "the addition of 16 and 56 is:72\n",
      "the subtraction of 16 and 56 is:-40\n",
      "the multiplication of 16 and 56 is:-40\n",
      "the division of 16 and 56 is:0\n"
     ]
    }
   ],
   "source": [
    "import random\n",
    "import time\n",
    "n1=random.randint(1,100)\n",
    "n2=random.randint(1,100)\n",
    "add=n1+n2\n",
    "sub=n1-n2\n",
    "mul=n1-n2\n",
    "div=round(n1/n2)\n",
    "print(f\"the addition of {n1} and {n2} is:{add}\")\n",
    "time.sleep(2)\n",
    "print(f\"the subtraction of {n1} and {n2} is:{sub}\")\n",
    "time.sleep(2)\n",
    "print(f\"the multiplication of {n1} and {n2} is:{mul}\")\n",
    "time.sleep(2)\n",
    "print(f\"the division of {n1} and {n2} is:{div}\")\n",
    "\n"
   ]
  },
  {
   "cell_type": "code",
   "execution_count": 1,
   "id": "26e97865-e678-4053-975d-8cc9e963cfd7",
   "metadata": {},
   "outputs": [
    {
     "ename": "ValueError",
     "evalue": "invalid literal for int() with base 10: 'python'",
     "output_type": "error",
     "traceback": [
      "\u001b[1;31m---------------------------------------------------------------------------\u001b[0m",
      "\u001b[1;31mValueError\u001b[0m                                Traceback (most recent call last)",
      "Cell \u001b[1;32mIn[1], line 1\u001b[0m\n\u001b[1;32m----> 1\u001b[0m \u001b[38;5;28mint\u001b[39m(\u001b[38;5;124m'\u001b[39m\u001b[38;5;124mpython\u001b[39m\u001b[38;5;124m'\u001b[39m)\n",
      "\u001b[1;31mValueError\u001b[0m: invalid literal for int() with base 10: 'python'"
     ]
    }
   ],
   "source": [
    "int('python')"
   ]
  },
  {
   "cell_type": "code",
   "execution_count": 2,
   "id": "8162bd14-09bd-4c56-a760-0d2d2f20242e",
   "metadata": {},
   "outputs": [
    {
     "ename": "ValueError",
     "evalue": "could not convert string to float: 'python'",
     "output_type": "error",
     "traceback": [
      "\u001b[1;31m---------------------------------------------------------------------------\u001b[0m",
      "\u001b[1;31mValueError\u001b[0m                                Traceback (most recent call last)",
      "Cell \u001b[1;32mIn[2], line 1\u001b[0m\n\u001b[1;32m----> 1\u001b[0m \u001b[38;5;28mfloat\u001b[39m(\u001b[38;5;124m\"\u001b[39m\u001b[38;5;124mpython\u001b[39m\u001b[38;5;124m\"\u001b[39m)\n",
      "\u001b[1;31mValueError\u001b[0m: could not convert string to float: 'python'"
     ]
    }
   ],
   "source": [
    "float(\"python\")"
   ]
  },
  {
   "cell_type": "code",
   "execution_count": null,
   "id": "f5d090a4-e2de-4e3e-8be2-6708a9b8af7b",
   "metadata": {},
   "outputs": [],
   "source": []
  }
 ],
 "metadata": {
  "kernelspec": {
   "display_name": "Python 3 (ipykernel)",
   "language": "python",
   "name": "python3"
  },
  "language_info": {
   "codemirror_mode": {
    "name": "ipython",
    "version": 3
   },
   "file_extension": ".py",
   "mimetype": "text/x-python",
   "name": "python",
   "nbconvert_exporter": "python",
   "pygments_lexer": "ipython3",
   "version": "3.11.7"
  }
 },
 "nbformat": 4,
 "nbformat_minor": 5
}
