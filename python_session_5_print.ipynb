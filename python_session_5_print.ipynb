{
 "cells": [
  {
   "cell_type": "code",
   "execution_count": null,
   "id": "7b3ca673-664a-46a5-9074-86bcd55e8dce",
   "metadata": {},
   "outputs": [],
   "source": [
    "# print is used to see some answers \n",
    "# in jupyter there is no need to provide print statement in order to see answers\n",
    "# if more than two answers are there we can check all answers using print statement"
   ]
  },
  {
   "cell_type": "code",
   "execution_count": 1,
   "id": "60975d4f-b56c-48e0-89f1-6907c305ca01",
   "metadata": {},
   "outputs": [
    {
     "data": {
      "text/plain": [
       "10"
      ]
     },
     "execution_count": 1,
     "metadata": {},
     "output_type": "execute_result"
    }
   ],
   "source": [
    "a=10\n",
    "a"
   ]
  },
  {
   "cell_type": "code",
   "execution_count": 2,
   "id": "b174dc15-4b2d-485f-9d22-4ec4b474c740",
   "metadata": {},
   "outputs": [
    {
     "name": "stdout",
     "output_type": "stream",
     "text": [
      "10\n"
     ]
    }
   ],
   "source": [
    "print(a)"
   ]
  },
  {
   "cell_type": "code",
   "execution_count": 3,
   "id": "61670853-911c-455b-9da5-5aeea258ec15",
   "metadata": {},
   "outputs": [
    {
     "data": {
      "text/plain": [
       "20"
      ]
     },
     "execution_count": 3,
     "metadata": {},
     "output_type": "execute_result"
    }
   ],
   "source": [
    "a=10\n",
    "b=20\n",
    "a\n",
    "b"
   ]
  },
  {
   "cell_type": "code",
   "execution_count": 4,
   "id": "7394def4-3e45-404e-966b-41b57fe5780e",
   "metadata": {},
   "outputs": [
    {
     "name": "stdout",
     "output_type": "stream",
     "text": [
      "10\n",
      "20\n"
     ]
    }
   ],
   "source": [
    "print(a)\n",
    "print(b)"
   ]
  },
  {
   "cell_type": "code",
   "execution_count": 5,
   "id": "5ec30a65-fa5e-4091-9a5a-f1edf1a1b586",
   "metadata": {},
   "outputs": [
    {
     "name": "stdout",
     "output_type": "stream",
     "text": [
      "10\n",
      "10 20\n",
      "python\n",
      "10 20 python\n"
     ]
    }
   ],
   "source": [
    "print(10)\n",
    "print(10,20)\n",
    "print('python')\n",
    "print(10,20,'python')"
   ]
  },
  {
   "cell_type": "code",
   "execution_count": 6,
   "id": "3c0f1f26-22f0-46ab-8a76-5ebb7baf5a82",
   "metadata": {},
   "outputs": [
    {
     "name": "stdout",
     "output_type": "stream",
     "text": [
      "40\n"
     ]
    }
   ],
   "source": [
    "num1=10\n",
    "num2=30\n",
    "add=num1+num2\n",
    "print(add)"
   ]
  },
  {
   "cell_type": "code",
   "execution_count": 7,
   "id": "c10ee5a0-27df-4279-87c5-9998792d03e6",
   "metadata": {},
   "outputs": [
    {
     "name": "stdout",
     "output_type": "stream",
     "text": [
      "the addition of num1 and num2 is 40\n"
     ]
    }
   ],
   "source": [
    "num1=10\n",
    "num2=30\n",
    "add=num1+num2\n",
    "print(\"the addition of num1 and num2 is\",add)"
   ]
  },
  {
   "cell_type": "code",
   "execution_count": 8,
   "id": "8d17d76a-8240-462f-aec0-b098fcd37598",
   "metadata": {},
   "outputs": [
    {
     "name": "stdout",
     "output_type": "stream",
     "text": [
      "the addition of 10 and 30 is 40\n"
     ]
    }
   ],
   "source": [
    "print(\"the addition of\",num1,\"and\",num2,\"is\",add)"
   ]
  },
  {
   "cell_type": "code",
   "execution_count": 11,
   "id": "307a20d1-a00b-4bca-a756-c9b31593160b",
   "metadata": {},
   "outputs": [
    {
     "name": "stdout",
     "output_type": "stream",
     "text": [
      "hello my name is python im 10 years old from hyd\n"
     ]
    }
   ],
   "source": [
    "name='python'\n",
    "age=10\n",
    "city='hyd'\n",
    "# hello my name is python,i'm 10 years old from hyd\n",
    "\n",
    "print(\"hello my name is\",name,\"im\",age,\"years old from\",city)"
   ]
  },
  {
   "cell_type": "markdown",
   "id": "a66aa21f-b746-4d0e-9cc3-7875daf0ecde",
   "metadata": {},
   "source": [
    "# format method"
   ]
  },
  {
   "cell_type": "code",
   "execution_count": 12,
   "id": "9cd51456-b400-478a-8c63-9c27e3c71754",
   "metadata": {},
   "outputs": [
    {
     "name": "stdout",
     "output_type": "stream",
     "text": [
      "the addition of 10 and 30 is 40\n"
     ]
    }
   ],
   "source": [
    "num1=10\n",
    "num2=30\n",
    "add=num1+num2\n",
    "print(\"the addition of {} and {} is {}\".format(num1,num2,add)) "
   ]
  },
  {
   "cell_type": "code",
   "execution_count": 14,
   "id": "0ac09029-3db1-49bb-895e-e8434816e03b",
   "metadata": {},
   "outputs": [
    {
     "name": "stdout",
     "output_type": "stream",
     "text": [
      "hello my name is python,i'm 10 years old from hyd\n"
     ]
    }
   ],
   "source": [
    "name='python'\n",
    "age=10\n",
    "city='hyd'\n",
    "print(\"hello my name is {},i'm {} years old from {}\".format(name,age,city))"
   ]
  },
  {
   "cell_type": "code",
   "execution_count": 18,
   "id": "397a3459-16b5-48b6-ad70-da3b250d3107",
   "metadata": {},
   "outputs": [
    {
     "name": "stdout",
     "output_type": "stream",
     "text": [
      "the average of 100, 200 and 300 is 200.0\n"
     ]
    }
   ],
   "source": [
    "num1=100\n",
    "num2=200\n",
    "num3=300\n",
    "avg=(num1+num2+num3)/3\n",
    "print(\"the average of {}, {} and {} is {}\".format(num1,num2,num3,avg))"
   ]
  },
  {
   "cell_type": "markdown",
   "id": "e0526c42-fab8-4df3-bf97-a05ea16dca06",
   "metadata": {},
   "source": [
    "# round"
   ]
  },
  {
   "cell_type": "code",
   "execution_count": 20,
   "id": "91b39d21-0a4d-415c-b614-2a2588050c60",
   "metadata": {},
   "outputs": [
    {
     "data": {
      "text/plain": [
       "125"
      ]
     },
     "execution_count": 20,
     "metadata": {},
     "output_type": "execute_result"
    }
   ],
   "source": [
    "val=125.345677\n",
    "round(val)"
   ]
  },
  {
   "cell_type": "code",
   "execution_count": 22,
   "id": "f693c7cb-326d-4634-bd2d-7db65230d127",
   "metadata": {},
   "outputs": [
    {
     "data": {
      "text/plain": [
       "125.3"
      ]
     },
     "execution_count": 22,
     "metadata": {},
     "output_type": "execute_result"
    }
   ],
   "source": [
    "val=125.345677\n",
    "round(val,1)"
   ]
  },
  {
   "cell_type": "markdown",
   "id": "2b48701a-478a-4e93-9885-e08fa1fdc07c",
   "metadata": {},
   "source": [
    "# f string method"
   ]
  },
  {
   "cell_type": "code",
   "execution_count": 35,
   "id": "c47ae834-cfc0-4253-afaa-a0440baa75ff",
   "metadata": {},
   "outputs": [
    {
     "name": "stdout",
     "output_type": "stream",
     "text": [
      "the average of 100, 200 and 300 is 200.0\n"
     ]
    },
    {
     "data": {
      "text/plain": [
       "200"
      ]
     },
     "execution_count": 35,
     "metadata": {},
     "output_type": "execute_result"
    }
   ],
   "source": [
    "num1=100\n",
    "num2=200\n",
    "num3=300\n",
    "avg=(num1+num2+num3)/3\n",
    "print(f\"the average of {num1}, {num2} and {num3} is {avg}\")\n",
    "round(avg)"
   ]
  },
  {
   "cell_type": "code",
   "execution_count": 34,
   "id": "91f7251b-2187-48cf-9cd2-e7bd9e9754c7",
   "metadata": {},
   "outputs": [
    {
     "name": "stdout",
     "output_type": "stream",
     "text": [
      "87.33333333333333\n"
     ]
    },
    {
     "data": {
      "text/plain": [
       "87"
      ]
     },
     "execution_count": 34,
     "metadata": {},
     "output_type": "execute_result"
    }
   ],
   "source": [
    "a=12\n",
    "b=100\n",
    "c=150\n",
    "avg=(a+b+c)/3\n",
    "print(avg)\n",
    "round(avg)\n"
   ]
  },
  {
   "cell_type": "markdown",
   "id": "a7883db9-223a-4361-a71d-3cab25ca1b6d",
   "metadata": {},
   "source": [
    "- variables should be inside the curly braces\n",
    "- write the variables inside the quotes"
   ]
  },
  {
   "cell_type": "markdown",
   "id": "0f28f7af-f4d7-48c9-a239-004cae2aeee1",
   "metadata": {},
   "source": [
    "## end operator"
   ]
  },
  {
   "cell_type": "code",
   "execution_count": 37,
   "id": "24c3ac4d-3371-4810-8e4f-8eedbd73dc04",
   "metadata": {},
   "outputs": [
    {
     "name": "stdout",
     "output_type": "stream",
     "text": [
      "hello good morning\n"
     ]
    }
   ],
   "source": [
    "print('hello',end=' ')\n",
    "print('good morning')"
   ]
  },
  {
   "cell_type": "code",
   "execution_count": 38,
   "id": "51680719-fdec-4d98-9f90-3a035ac7c7b2",
   "metadata": {},
   "outputs": [
    {
     "name": "stdout",
     "output_type": "stream",
     "text": [
      "1 2 3\n"
     ]
    }
   ],
   "source": [
    "print(1,end=' ')\n",
    "print(2,end=' ')\n",
    "print(3)"
   ]
  },
  {
   "cell_type": "markdown",
   "id": "af6dd02b-dc99-490c-b01d-91c8d1c67162",
   "metadata": {},
   "source": [
    "# separator operator"
   ]
  },
  {
   "cell_type": "markdown",
   "id": "27042ebe-0948-4009-b858-bef3c8a7b6e2",
   "metadata": {},
   "source": [
    "- one print statement only\n",
    "- inside one print statement we have multiple values \n",
    "- i want to separate these multiple values with anything"
   ]
  },
  {
   "cell_type": "code",
   "execution_count": 41,
   "id": "9f690a3e-ab8b-40e0-b7f0-66bf6add5a81",
   "metadata": {},
   "outputs": [
    {
     "name": "stdout",
     "output_type": "stream",
     "text": [
      "hello AI\n"
     ]
    }
   ],
   "source": [
    "print(\"hello\",\"AI\",sep=\" \")"
   ]
  },
  {
   "cell_type": "code",
   "execution_count": 43,
   "id": "ec7a702e-1c8d-4621-a05f-ad6bdad4987b",
   "metadata": {},
   "outputs": [
    {
     "name": "stdout",
     "output_type": "stream",
     "text": [
      "sr 187\n"
     ]
    }
   ],
   "source": [
    "print(\"sr\",187,sep=\" \")"
   ]
  },
  {
   "cell_type": "markdown",
   "id": "e6102fbe-5d91-41b2-a062-5cffbe28674a",
   "metadata": {},
   "source": [
    "- format\n",
    "- f\n",
    "- end\n",
    "  - multiple print statements \n",
    "- sep\n",
    "  - single print,multiple values"
   ]
  },
  {
   "cell_type": "code",
   "execution_count": 46,
   "id": "bdafd892-3ae2-427d-a7e0-1d11fa041312",
   "metadata": {},
   "outputs": [
    {
     "name": "stdout",
     "output_type": "stream",
     "text": [
      "1 2 3 .\n"
     ]
    }
   ],
   "source": [
    "print(1,2,3,\".\",sep=\" \")"
   ]
  },
  {
   "cell_type": "code",
   "execution_count": 4,
   "id": "79beef5f-ad1e-44f0-88b1-ec887c736bc9",
   "metadata": {},
   "outputs": [
    {
     "name": "stdout",
     "output_type": "stream",
     "text": [
      "1 2 3.\n"
     ]
    }
   ],
   "source": [
    "print(1,2,end=\" \")\n",
    "print(3,'.',sep=\"\")"
   ]
  },
  {
   "cell_type": "code",
   "execution_count": null,
   "id": "cde26083-0da9-4fc2-b8c8-69f2b60fcd74",
   "metadata": {},
   "outputs": [],
   "source": []
  }
 ],
 "metadata": {
  "kernelspec": {
   "display_name": "Python 3 (ipykernel)",
   "language": "python",
   "name": "python3"
  },
  "language_info": {
   "codemirror_mode": {
    "name": "ipython",
    "version": 3
   },
   "file_extension": ".py",
   "mimetype": "text/x-python",
   "name": "python",
   "nbconvert_exporter": "python",
   "pygments_lexer": "ipython3",
   "version": "3.11.7"
  }
 },
 "nbformat": 4,
 "nbformat_minor": 5
}
