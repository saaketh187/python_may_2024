{
 "cells": [
  {
   "cell_type": "code",
   "execution_count": 1,
   "id": "7265e184-18b4-45a9-b31a-4b54b4508292",
   "metadata": {},
   "outputs": [
    {
     "data": {
      "text/plain": [
       "'C:\\\\Users\\\\SAAKETH\\\\Documents\\\\Naresh IT\\\\python'"
      ]
     },
     "execution_count": 1,
     "metadata": {},
     "output_type": "execute_result"
    }
   ],
   "source": [
    "import os\n",
    "os.getcwd()"
   ]
  },
  {
   "cell_type": "markdown",
   "id": "165304c6-30ea-421d-a7a0-519f31a21f88",
   "metadata": {},
   "source": [
    "- octa \n",
    "- octa means=8\n",
    "- octa includes 01234567\n",
    "- representation is : 0o345,0o123\n",
    "- wrong representation is : 0o879\n",
    "\n"
   ]
  },
  {
   "cell_type": "code",
   "execution_count": 3,
   "id": "b5a527bb-5887-4316-8273-00eab9109b5b",
   "metadata": {},
   "outputs": [
    {
     "data": {
      "text/plain": [
       "83"
      ]
     },
     "execution_count": 3,
     "metadata": {},
     "output_type": "execute_result"
    }
   ],
   "source": [
    "0o123"
   ]
  },
  {
   "cell_type": "markdown",
   "id": "c4811fe7-d12f-403e-835d-d80e2cd503c6",
   "metadata": {},
   "source": [
    "- hexa \n",
    "- hexa means 16\n",
    "- hexa includes 0 1 2 3 4 5 6 7 8 9 A B C D E F\n",
    "- A=10,b=11,c=12,d=13,e=14,f=15.\n",
    "- representation is 0x123,0xabc\n",
    "- wrong represntation is 0xabx"
   ]
  },
  {
   "cell_type": "markdown",
   "id": "96cdebff-dee2-4a1f-8eeb-32ad8f333d08",
   "metadata": {},
   "source": [
    "## float"
   ]
  },
  {
   "cell_type": "markdown",
   "id": "6a3910f9-c068-4afe-8040-5e8da97082d7",
   "metadata": {},
   "source": [
    "- 1e1 or 1e+1 both are same\n"
   ]
  },
  {
   "cell_type": "code",
   "execution_count": 8,
   "id": "6bc83e56-91e4-4093-aba9-258a972486df",
   "metadata": {},
   "outputs": [
    {
     "data": {
      "text/plain": [
       "10.0"
      ]
     },
     "execution_count": 8,
     "metadata": {},
     "output_type": "execute_result"
    }
   ],
   "source": [
    "1e1"
   ]
  },
  {
   "cell_type": "code",
   "execution_count": 9,
   "id": "ed775b7c-153f-4e72-a4ac-8351895649ff",
   "metadata": {},
   "outputs": [
    {
     "data": {
      "text/plain": [
       "100.0"
      ]
     },
     "execution_count": 9,
     "metadata": {},
     "output_type": "execute_result"
    }
   ],
   "source": [
    "1e2"
   ]
  },
  {
   "cell_type": "code",
   "execution_count": 10,
   "id": "39d40986-2f1c-48c0-9d6d-483e2b7f2d94",
   "metadata": {},
   "outputs": [
    {
     "data": {
      "text/plain": [
       "1000.0"
      ]
     },
     "execution_count": 10,
     "metadata": {},
     "output_type": "execute_result"
    }
   ],
   "source": [
    "1e3"
   ]
  },
  {
   "cell_type": "code",
   "execution_count": 11,
   "id": "b17eee92-410d-4c17-b9af-3edc231a5cb3",
   "metadata": {},
   "outputs": [
    {
     "data": {
      "text/plain": [
       "0.1"
      ]
     },
     "execution_count": 11,
     "metadata": {},
     "output_type": "execute_result"
    }
   ],
   "source": [
    "1e-1"
   ]
  },
  {
   "cell_type": "markdown",
   "id": "4e3a0504-6920-4cd9-8c7b-4d8286b2c52d",
   "metadata": {},
   "source": [
    "**Boolean**"
   ]
  },
  {
   "cell_type": "markdown",
   "id": "b2fc2110-5d92-4e1e-b70b-ca8439ca8c25",
   "metadata": {},
   "source": [
    "- True=1\n",
    "- False=0"
   ]
  },
  {
   "cell_type": "code",
   "execution_count": 13,
   "id": "7176d369-dfb9-41cf-8d0f-484e203480f7",
   "metadata": {},
   "outputs": [
    {
     "data": {
      "text/plain": [
       "bool"
      ]
     },
     "execution_count": 13,
     "metadata": {},
     "output_type": "execute_result"
    }
   ],
   "source": [
    "ans=True\n",
    "type(ans)"
   ]
  },
  {
   "cell_type": "code",
   "execution_count": 15,
   "id": "7060577e-d834-4fc4-b66a-ff5b8e884972",
   "metadata": {},
   "outputs": [
    {
     "data": {
      "text/plain": [
       "bool"
      ]
     },
     "execution_count": 15,
     "metadata": {},
     "output_type": "execute_result"
    }
   ],
   "source": [
    "wrong_ans=False\n",
    "type(wrong_ans)"
   ]
  },
  {
   "cell_type": "markdown",
   "id": "28bd1d2d-c3db-40a8-9671-6c2d364bced2",
   "metadata": {},
   "source": [
    "$string$"
   ]
  },
  {
   "cell_type": "code",
   "execution_count": 18,
   "id": "3d61a316-99eb-4ff4-8951-5e863fa53dd1",
   "metadata": {},
   "outputs": [
    {
     "data": {
      "text/plain": [
       "'saaketh'"
      ]
     },
     "execution_count": 18,
     "metadata": {},
     "output_type": "execute_result"
    }
   ],
   "source": [
    "name=\"saaketh\"\n",
    "name"
   ]
  },
  {
   "cell_type": "code",
   "execution_count": 19,
   "id": "cd9a5ba4-aa66-4b85-9e6c-ac0e192958f2",
   "metadata": {},
   "outputs": [
    {
     "data": {
      "text/plain": [
       "'python'"
      ]
     },
     "execution_count": 19,
     "metadata": {},
     "output_type": "execute_result"
    }
   ],
   "source": [
    "name1='python'\n",
    "name1"
   ]
  },
  {
   "cell_type": "code",
   "execution_count": 20,
   "id": "c16e30ca-9b9c-431d-83db-e41b80fc653e",
   "metadata": {},
   "outputs": [
    {
     "data": {
      "text/plain": [
       "str"
      ]
     },
     "execution_count": 20,
     "metadata": {},
     "output_type": "execute_result"
    }
   ],
   "source": [
    "type(name1)"
   ]
  },
  {
   "cell_type": "code",
   "execution_count": 23,
   "id": "8fed5b1f-eed0-4183-a286-47b9cc81612b",
   "metadata": {},
   "outputs": [
    {
     "ename": "SyntaxError",
     "evalue": "invalid syntax (1190744895.py, line 1)",
     "output_type": "error",
     "traceback": [
      "\u001b[1;36m  Cell \u001b[1;32mIn[23], line 1\u001b[1;36m\u001b[0m\n\u001b[1;33m    i like 'python'\u001b[0m\n\u001b[1;37m      ^\u001b[0m\n\u001b[1;31mSyntaxError\u001b[0m\u001b[1;31m:\u001b[0m invalid syntax\n"
     ]
    }
   ],
   "source": [
    "i like 'python'"
   ]
  },
  {
   "cell_type": "code",
   "execution_count": 24,
   "id": "edd76916-7f13-4c4a-9ae9-77d68d92c416",
   "metadata": {},
   "outputs": [
    {
     "data": {
      "text/plain": [
       "\"i 'like'python\""
      ]
     },
     "execution_count": 24,
     "metadata": {},
     "output_type": "execute_result"
    }
   ],
   "source": [
    "name3=\"i 'like'python\"\n",
    "name3"
   ]
  },
  {
   "cell_type": "code",
   "execution_count": 25,
   "id": "dd2b9714-4d69-4a5f-8d02-e94a8b5ed183",
   "metadata": {},
   "outputs": [
    {
     "data": {
      "text/plain": [
       "'i \"like\" python'"
      ]
     },
     "execution_count": 25,
     "metadata": {},
     "output_type": "execute_result"
    }
   ],
   "source": [
    "name3='i \"like\" python'\n",
    "name3"
   ]
  },
  {
   "cell_type": "code",
   "execution_count": 2,
   "id": "2d1e4135-84ca-4a86-bd5a-0a5f86d8d4a1",
   "metadata": {},
   "outputs": [
    {
     "name": "stdout",
     "output_type": "stream",
     "text": [
      "hello how are you\n",
      "'how do you do'\n",
      "i'm vengeance\n"
     ]
    }
   ],
   "source": [
    "str1=\"\"\"hello how are you\n",
    "'how do you do'\n",
    "i'm vengeance\"\"\"\n",
    "print(str1)"
   ]
  },
  {
   "cell_type": "markdown",
   "id": "95409c46-7f6e-4b9c-b0a1-8beaf2f7e9a0",
   "metadata": {},
   "source": [
    "- strings can be represented in single,double and triple quotes\n",
    "- when a person writing in triple quote : **doc string**\n",
    "- triple quotes is used for conveying information like in jupyter\n",
    "- triple quotes are not used for coding"
   ]
  },
  {
   "cell_type": "markdown",
   "id": "87a30ce0-7904-428f-90df-95d3cc461910",
   "metadata": {},
   "source": [
    "<img data-ils=\"4\" jsaction=\"rcuQ6b:trigger.M8vzZb;\" class=\"rg_i Q4LuWd\" jsname=\"Q4LuWd\" width=\"180\" height=\"180\" alt=\"Rolex Daytona Rainbow for Rs.38,308,855 for sale from a Seller on Chrono24\" src=\"https://encrypted-tbn0.gstatic.com/images?q=tbn:ANd9GcQkgn1c6DiZ0Kw7ZiUql7jP9J67qZ2GrJxhiA&amp;usqp=CAU\">"
   ]
  },
  {
   "cell_type": "markdown",
   "id": "e5c44164-ddf8-4686-9aa4-dcecafc3ae9e",
   "metadata": {},
   "source": [
    "<img data-ils=\"4\" jsaction=\"rcuQ6b:trigger.M8vzZb;\" class=\"rg_i Q4LuWd\" jsname=\"Q4LuWd\" width=\"215\" height=\"215\" alt=\"Buy Rolex Daytona Rainbow 116595RBOW Full Diamonds - K2 Luxury Watches\" src=\"https://encrypted-tbn0.gstatic.com/images?q=tbn:ANd9GcS338J2WTr9MHiHSEr-tVr0nARSbKR30kTkmg&amp;usqp=CAU\">"
   ]
  },
  {
   "cell_type": "markdown",
   "id": "6e5df3c4-93a4-4c47-bf14-bfe31ba657cb",
   "metadata": {},
   "source": [
    "$image adding$"
   ]
  },
  {
   "cell_type": "markdown",
   "id": "65b4abf7-4995-4afc-b144-51fbf6d0cffe",
   "metadata": {},
   "source": [
    "<img src=\"https://i.pinimg.com/736x/71/03/37/710337487f40e37ce0c1c0d3ff42fdcf.jpg\" jsaction=\"VQAsE\" class=\"sFlh5c pT0Scc iPVvYb\" style=\"max-width: 675px; height: 340px; margin: 0px; width: 153px;\" alt=\"Warrior Quote iPhone Wallpaper 4K\" jsname=\"kn3ccd\" aria-hidden=\"false\">"
   ]
  },
  {
   "cell_type": "markdown",
   "id": "ec838ef1-3f4c-4c34-a539-69e04eabd04c",
   "metadata": {},
   "source": [
    "## finding file location"
   ]
  },
  {
   "cell_type": "code",
   "execution_count": 2,
   "id": "6ef31466-b364-405c-8ee0-e3dc3174e6aa",
   "metadata": {},
   "outputs": [
    {
     "data": {
      "text/plain": [
       "'C:\\\\Users\\\\SAAKETH\\\\Documents\\\\Naresh IT\\\\python'"
      ]
     },
     "execution_count": 2,
     "metadata": {},
     "output_type": "execute_result"
    }
   ],
   "source": [
    "import os \n",
    "os.getcwd()"
   ]
  },
  {
   "cell_type": "code",
   "execution_count": 3,
   "id": "312f9bcc-5e2f-4ccb-91a1-a50f290ad05f",
   "metadata": {},
   "outputs": [
    {
     "data": {
      "text/plain": [
       "187"
      ]
     },
     "execution_count": 3,
     "metadata": {},
     "output_type": "execute_result"
    }
   ],
   "source": [
    "saketh=187\n",
    "saketh"
   ]
  },
  {
   "cell_type": "code",
   "execution_count": 4,
   "id": "44bc52b1-1900-4da8-8e0c-9d2828121de7",
   "metadata": {},
   "outputs": [
    {
     "data": {
      "text/plain": [
       "20"
      ]
     },
     "execution_count": 4,
     "metadata": {},
     "output_type": "execute_result"
    }
   ],
   "source": [
    "saKeth=20\n",
    "saKeth"
   ]
  },
  {
   "cell_type": "code",
   "execution_count": 5,
   "id": "9594d15f-10ae-466e-93fd-ba3bec1f16ae",
   "metadata": {},
   "outputs": [
    {
     "data": {
      "text/plain": [
       "18"
      ]
     },
     "execution_count": 5,
     "metadata": {},
     "output_type": "execute_result"
    }
   ],
   "source": [
    "saaketh187=18\n",
    "saaketh187"
   ]
  },
  {
   "cell_type": "code",
   "execution_count": 6,
   "id": "a5f29f5e-6911-43fb-b11d-977dfe0eaf3c",
   "metadata": {},
   "outputs": [
    {
     "ename": "SyntaxError",
     "evalue": "invalid decimal literal (1485845018.py, line 1)",
     "output_type": "error",
     "traceback": [
      "\u001b[1;36m  Cell \u001b[1;32mIn[6], line 1\u001b[1;36m\u001b[0m\n\u001b[1;33m    18saaketh=7\u001b[0m\n\u001b[1;37m     ^\u001b[0m\n\u001b[1;31mSyntaxError\u001b[0m\u001b[1;31m:\u001b[0m invalid decimal literal\n"
     ]
    }
   ],
   "source": [
    "18saaketh=7\n",
    "18saaketh"
   ]
  },
  {
   "cell_type": "code",
   "execution_count": 8,
   "id": "b7a1aab5-8dbc-4811-bbc6-eb1a394816df",
   "metadata": {},
   "outputs": [
    {
     "data": {
      "text/plain": [
       "0"
      ]
     },
     "execution_count": 8,
     "metadata": {},
     "output_type": "execute_result"
    }
   ],
   "source": [
    "_saaketh9=00\n",
    "_saaketh9"
   ]
  },
  {
   "cell_type": "code",
   "execution_count": 9,
   "id": "7299168c-f428-4bf5-9995-f1bad06b1ad4",
   "metadata": {},
   "outputs": [
    {
     "ename": "SyntaxError",
     "evalue": "invalid syntax (226789547.py, line 1)",
     "output_type": "error",
     "traceback": [
      "\u001b[1;36m  Cell \u001b[1;32mIn[9], line 1\u001b[1;36m\u001b[0m\n\u001b[1;33m    global=123\u001b[0m\n\u001b[1;37m          ^\u001b[0m\n\u001b[1;31mSyntaxError\u001b[0m\u001b[1;31m:\u001b[0m invalid syntax\n"
     ]
    }
   ],
   "source": [
    "global=123\n",
    "global"
   ]
  },
  {
   "cell_type": "code",
   "execution_count": 10,
   "id": "c56550dd-7cb9-4c05-a2d2-aa313a6aa016",
   "metadata": {},
   "outputs": [
    {
     "ename": "SyntaxError",
     "evalue": "invalid syntax (2729474917.py, line 1)",
     "output_type": "error",
     "traceback": [
      "\u001b[1;36m  Cell \u001b[1;32mIn[10], line 1\u001b[1;36m\u001b[0m\n\u001b[1;33m    saaa keth=00\u001b[0m\n\u001b[1;37m         ^\u001b[0m\n\u001b[1;31mSyntaxError\u001b[0m\u001b[1;31m:\u001b[0m invalid syntax\n"
     ]
    }
   ],
   "source": [
    "saaa keth=00\n",
    "saaa keth"
   ]
  },
  {
   "cell_type": "code",
   "execution_count": 11,
   "id": "61c14c21-ef2f-4857-ad8f-e4333070bfe2",
   "metadata": {},
   "outputs": [
    {
     "ename": "SyntaxError",
     "evalue": "invalid syntax (4136687853.py, line 1)",
     "output_type": "error",
     "traceback": [
      "\u001b[1;36m  Cell \u001b[1;32mIn[11], line 1\u001b[1;36m\u001b[0m\n\u001b[1;33m    saaketh reddy=187\u001b[0m\n\u001b[1;37m            ^\u001b[0m\n\u001b[1;31mSyntaxError\u001b[0m\u001b[1;31m:\u001b[0m invalid syntax\n"
     ]
    }
   ],
   "source": [
    "saaketh reddy=187\n",
    "saaketh reddy"
   ]
  },
  {
   "cell_type": "code",
   "execution_count": 12,
   "id": "31bd4c67-3d14-4ba3-aa04-54fdaf6c9c1f",
   "metadata": {},
   "outputs": [
    {
     "data": {
      "text/plain": [
       "20"
      ]
     },
     "execution_count": 12,
     "metadata": {},
     "output_type": "execute_result"
    }
   ],
   "source": [
    "saa_k=20\n",
    "saa_k"
   ]
  },
  {
   "cell_type": "code",
   "execution_count": 13,
   "id": "d33649ec-2bb2-4e22-873c-3ea0ff909596",
   "metadata": {},
   "outputs": [
    {
     "data": {
      "text/plain": [
       "1"
      ]
     },
     "execution_count": 13,
     "metadata": {},
     "output_type": "execute_result"
    }
   ],
   "source": [
    "_=1\n",
    "_"
   ]
  },
  {
   "cell_type": "code",
   "execution_count": 14,
   "id": "6e2696f0-a221-44ad-86dc-f728a0f3ff3e",
   "metadata": {},
   "outputs": [
    {
     "data": {
      "text/plain": [
       "90"
      ]
     },
     "execution_count": 14,
     "metadata": {},
     "output_type": "execute_result"
    }
   ],
   "source": [
    "_but=90\n",
    "_but"
   ]
  },
  {
   "cell_type": "code",
   "execution_count": 18,
   "id": "2ad9511f-2853-4bb7-bfb4-909d8b4bb1dc",
   "metadata": {},
   "outputs": [
    {
     "data": {
      "text/plain": [
       "0.1"
      ]
     },
     "execution_count": 18,
     "metadata": {},
     "output_type": "execute_result"
    }
   ],
   "source": [
    "1e-1"
   ]
  },
  {
   "cell_type": "code",
   "execution_count": 21,
   "id": "881f15c3-1852-4eee-8a38-e9d4809a2387",
   "metadata": {},
   "outputs": [
    {
     "data": {
      "text/plain": [
       "10.0"
      ]
     },
     "execution_count": 21,
     "metadata": {},
     "output_type": "execute_result"
    }
   ],
   "source": [
    "1e1"
   ]
  },
  {
   "cell_type": "code",
   "execution_count": 27,
   "id": "dfbfc8ab-6f75-43fe-bbae-b35a50f8a1cf",
   "metadata": {},
   "outputs": [
    {
     "data": {
      "text/plain": [
       "10.0"
      ]
     },
     "execution_count": 27,
     "metadata": {},
     "output_type": "execute_result"
    }
   ],
   "source": [
    "1e+1"
   ]
  },
  {
   "cell_type": "code",
   "execution_count": 28,
   "id": "aa050121-b5c1-4d7e-8b8f-701529107705",
   "metadata": {},
   "outputs": [
    {
     "data": {
      "text/plain": [
       "0.0001"
      ]
     },
     "execution_count": 28,
     "metadata": {},
     "output_type": "execute_result"
    }
   ],
   "source": [
    "1e-4"
   ]
  },
  {
   "cell_type": "code",
   "execution_count": 30,
   "id": "e66f922e-a7f1-4d45-83c4-9c066a4844ad",
   "metadata": {},
   "outputs": [
    {
     "data": {
      "text/plain": [
       "7"
      ]
     },
     "execution_count": 30,
     "metadata": {},
     "output_type": "execute_result"
    }
   ],
   "source": [
    "0b111"
   ]
  },
  {
   "cell_type": "code",
   "execution_count": 31,
   "id": "56e028dd-f654-4097-8a46-193bd1787c2d",
   "metadata": {},
   "outputs": [
    {
     "data": {
      "text/plain": [
       "4"
      ]
     },
     "execution_count": 31,
     "metadata": {},
     "output_type": "execute_result"
    }
   ],
   "source": [
    "0b100"
   ]
  },
  {
   "cell_type": "code",
   "execution_count": 33,
   "id": "1909b763-c48c-4463-9ab6-99943d484dd0",
   "metadata": {},
   "outputs": [
    {
     "data": {
      "text/plain": [
       "121"
      ]
     },
     "execution_count": 33,
     "metadata": {},
     "output_type": "execute_result"
    }
   ],
   "source": [
    "0o171"
   ]
  },
  {
   "cell_type": "code",
   "execution_count": 34,
   "id": "b1778597-8f67-4f2e-b14d-7aec2e154ba5",
   "metadata": {},
   "outputs": [
    {
     "data": {
      "text/plain": [
       "1533"
      ]
     },
     "execution_count": 34,
     "metadata": {},
     "output_type": "execute_result"
    }
   ],
   "source": [
    "0x5fd"
   ]
  },
  {
   "cell_type": "code",
   "execution_count": 35,
   "id": "f6c20347-aa17-40c4-8509-b0034be59590",
   "metadata": {},
   "outputs": [
    {
     "data": {
      "text/plain": [
       "\"i'm vengeance\""
      ]
     },
     "execution_count": 35,
     "metadata": {},
     "output_type": "execute_result"
    }
   ],
   "source": [
    "s=\"i'm vengeance\"\n",
    "s"
   ]
  },
  {
   "cell_type": "code",
   "execution_count": 36,
   "id": "99dbd460-26bc-486a-a3d1-cd15d1528892",
   "metadata": {},
   "outputs": [
    {
     "data": {
      "text/plain": [
       "\"namaste 'india'\""
      ]
     },
     "execution_count": 36,
     "metadata": {},
     "output_type": "execute_result"
    }
   ],
   "source": [
    "f=\"namaste 'india'\"\n",
    "f"
   ]
  },
  {
   "cell_type": "code",
   "execution_count": 7,
   "id": "3c2d3854-4e1d-443b-9c0d-299e835053ae",
   "metadata": {},
   "outputs": [
    {
     "name": "stdout",
     "output_type": "stream",
     "text": [
      "hello world\n",
      "'namaste india' \n",
      "welcome to bharat\n"
     ]
    }
   ],
   "source": [
    "g=\"\"\"hello world\n",
    "'namaste india' \n",
    "welcome to bharat\"\"\"\n",
    "print(g)"
   ]
  },
  {
   "cell_type": "markdown",
   "id": "df8a464d-bd66-41fb-ac27-cef25f7b21b1",
   "metadata": {},
   "source": [
    "<img src=\"https://static.toiimg.com/photo/104569839/104569839.jpg\" jsaction=\"VQAsE\" class=\"sFlh5c pT0Scc iPVvYb\" style=\"max-width: 900px; height: 340px; margin: 0px; width: 191px;\" alt=\"World Cup: Virat Kohli leads India stat attack against Bangladesh | Times  of India\" jsname=\"kn3ccd\" aria-hidden=\"false\">"
   ]
  },
  {
   "cell_type": "code",
   "execution_count": 1,
   "id": "67485f76-406c-4447-97ec-d5fbf0ff7653",
   "metadata": {},
   "outputs": [
    {
     "data": {
      "text/plain": [
       "0.00072"
      ]
     },
     "execution_count": 1,
     "metadata": {},
     "output_type": "execute_result"
    }
   ],
   "source": [
    "7.2e-4"
   ]
  },
  {
   "cell_type": "code",
   "execution_count": 10,
   "id": "aec73d92-093c-4366-a8a2-e7ee5c674c5b",
   "metadata": {},
   "outputs": [
    {
     "data": {
      "text/plain": [
       "0.00029"
      ]
     },
     "execution_count": 10,
     "metadata": {},
     "output_type": "execute_result"
    }
   ],
   "source": [
    "2.9e-4"
   ]
  },
  {
   "cell_type": "markdown",
   "id": "aaa8bfe1-0d3b-443e-bbdd-f4b4165635b5",
   "metadata": {},
   "source": [
    "<img data-ils=\"4\" jsaction=\"rcuQ6b:trigger.M8vzZb;\" class=\"rg_i Q4LuWd\" jsname=\"Q4LuWd\" width=\"300\" height=\"169\" alt=\"Kobe Bryant transcended his sport to inspire players like Neymar and Lukaku  | Goal.com Uganda\" src=\"https://encrypted-tbn0.gstatic.com/images?q=tbn:ANd9GcR81b__ruduQfAzG7HIdrbEk26J0jKMqw6jfw&amp;usqp=CAU\">"
   ]
  },
  {
   "cell_type": "code",
   "execution_count": 1,
   "id": "634affcf-4efc-4cf0-ac4f-0ddfabc12108",
   "metadata": {},
   "outputs": [
    {
     "data": {
      "text/plain": [
       "200.0"
      ]
     },
     "execution_count": 1,
     "metadata": {},
     "output_type": "execute_result"
    }
   ],
   "source": [
    "2e2"
   ]
  },
  {
   "cell_type": "markdown",
   "id": "ec144f68-b63a-4e61-9904-d5cf6a38fd11",
   "metadata": {},
   "source": [
    "<img src=\"https://encrypted-tbn0.gstatic.com/images?q=tbn:ANd9GcTazIh4WUq35mvgNSOFycsXUeQiXUyxdSZFsA&amp;s\" jsaction=\"VQAsE\" class=\"sFlh5c pT0Scc\" alt=\"Virat Kohli Birthday 2022: 5 lesser-known facts about `King Kohli` | PHOTOS  | Zee Business\" jsname=\"JuXqh\" style=\"max-width: 3837px; position: absolute; visibility: hidden;\" data-ilt=\"1717250021165\">"
   ]
  },
  {
   "cell_type": "markdown",
   "id": "0934f44b-60aa-4c55-9a3e-c06a3ccae364",
   "metadata": {},
   "source": [
    "<img src=\"https://encrypted-tbn0.gstatic.com/images?q=tbn:ANd9GcTazIh4WUq35mvgNSOFycsXUeQiXUyxdSZFsA&amp;s\" jsaction=\"VQAsE\" class=\"sFlh5c pT0Scc\" alt=\"Virat Kohli Birthday 2022: 5 lesser-known facts about `King Kohli` | PHOTOS  | Zee Business\" jsname=\"JuXqh\" style=\"max-width: 3837px; position: absolute; visibility: hidden;\" data-ilt=\"1717250021165\">"
   ]
  },
  {
   "cell_type": "code",
   "execution_count": null,
   "id": "276bca35-8126-4650-a965-a63464abf63d",
   "metadata": {},
   "outputs": [],
   "source": []
  }
 ],
 "metadata": {
  "kernelspec": {
   "display_name": "Python 3 (ipykernel)",
   "language": "python",
   "name": "python3"
  },
  "language_info": {
   "codemirror_mode": {
    "name": "ipython",
    "version": 3
   },
   "file_extension": ".py",
   "mimetype": "text/x-python",
   "name": "python",
   "nbconvert_exporter": "python",
   "pygments_lexer": "ipython3",
   "version": "3.11.7"
  }
 },
 "nbformat": 4,
 "nbformat_minor": 5
}
