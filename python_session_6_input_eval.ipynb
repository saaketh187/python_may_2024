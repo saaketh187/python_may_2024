{
 "cells": [
  {
   "cell_type": "markdown",
   "id": "6dd7a984-4330-479e-9265-a110c2714580",
   "metadata": {},
   "source": [
    "## input"
   ]
  },
  {
   "cell_type": "markdown",
   "id": "598c8554-86a3-44f8-8dc3-fc64fa153251",
   "metadata": {},
   "source": [
    "- input is a keyword, we can provide values from keyword\n",
    "- which means user can give the own values\n",
    "- the kernel will be busy until unless you need to provide inside the box\n",
    "- provide the value and hit enter\n",
    "- make sure that * should be gone\n",
    "- the default data type is \"string datatype\""
   ]
  },
  {
   "cell_type": "code",
   "execution_count": 2,
   "id": "8f4f8e9c-5133-4df4-83eb-9ee8ca0d2dfc",
   "metadata": {},
   "outputs": [
    {
     "name": "stdin",
     "output_type": "stream",
     "text": [
      " hello\n"
     ]
    },
    {
     "data": {
      "text/plain": [
       "'hello'"
      ]
     },
     "execution_count": 2,
     "metadata": {},
     "output_type": "execute_result"
    }
   ],
   "source": [
    "input()"
   ]
  },
  {
   "cell_type": "code",
   "execution_count": 3,
   "id": "5da3a8f6-6d4e-4a95-a755-53270f8632d6",
   "metadata": {},
   "outputs": [
    {
     "name": "stdin",
     "output_type": "stream",
     "text": [
      " saaketh\n"
     ]
    },
    {
     "data": {
      "text/plain": [
       "'saaketh'"
      ]
     },
     "execution_count": 3,
     "metadata": {},
     "output_type": "execute_result"
    }
   ],
   "source": [
    "input()"
   ]
  },
  {
   "cell_type": "code",
   "execution_count": 7,
   "id": "05f12cf0-1be1-471e-9a38-ae4f6e47aa32",
   "metadata": {},
   "outputs": [
    {
     "name": "stdin",
     "output_type": "stream",
     "text": [
      " 12\n"
     ]
    }
   ],
   "source": [
    "w=input()"
   ]
  },
  {
   "cell_type": "code",
   "execution_count": 8,
   "id": "535698dc-77e6-4681-ad66-839224ebaff8",
   "metadata": {},
   "outputs": [
    {
     "data": {
      "text/plain": [
       "'12'"
      ]
     },
     "execution_count": 8,
     "metadata": {},
     "output_type": "execute_result"
    }
   ],
   "source": [
    "w"
   ]
  },
  {
   "cell_type": "code",
   "execution_count": 13,
   "id": "28ee7237-155a-4528-9c01-3c8018ce927c",
   "metadata": {},
   "outputs": [
    {
     "name": "stdin",
     "output_type": "stream",
     "text": [
      " 100\n",
      " 200\n"
     ]
    },
    {
     "data": {
      "text/plain": [
       "300"
      ]
     },
     "execution_count": 13,
     "metadata": {},
     "output_type": "execute_result"
    }
   ],
   "source": [
    "a=int(input())\n",
    "b=int(input())\n",
    "a+b"
   ]
  },
  {
   "cell_type": "code",
   "execution_count": 16,
   "id": "39bbb7a2-d613-4bc1-9d4c-67bab992a33c",
   "metadata": {},
   "outputs": [
    {
     "name": "stdin",
     "output_type": "stream",
     "text": [
      "enter the num1: 10\n",
      "enter the num2: 20\n"
     ]
    },
    {
     "name": "stdout",
     "output_type": "stream",
     "text": [
      "the addition of 10 and 20 is 30\n"
     ]
    }
   ],
   "source": [
    "a=int(input(\"enter the num1:\"))\n",
    "b=int(input(\"enter the num2:\"))\n",
    "c=a+b\n",
    "print(f\"the addition of {a} and {b} is {c}\")"
   ]
  },
  {
   "cell_type": "code",
   "execution_count": 1,
   "id": "758494dd-b5e2-416e-889d-f10070e7f6e0",
   "metadata": {},
   "outputs": [
    {
     "name": "stdin",
     "output_type": "stream",
     "text": [
      " 187\n",
      "enter the number: 120\n",
      "enter the number 1: 111\n"
     ]
    },
    {
     "data": {
      "text/plain": [
       "'111'"
      ]
     },
     "execution_count": 1,
     "metadata": {},
     "output_type": "execute_result"
    }
   ],
   "source": [
    "input()\n",
    "input(\"enter the number:\")\n",
    "input(\"enter the number 1:\")"
   ]
  },
  {
   "cell_type": "code",
   "execution_count": 2,
   "id": "17e9cd03-a3b3-4672-85b0-67f82dec3e70",
   "metadata": {},
   "outputs": [
    {
     "name": "stdin",
     "output_type": "stream",
     "text": [
      " saaketh\n",
      "enter the number: 187\n",
      "enter the number1: 120\n"
     ]
    },
    {
     "name": "stdout",
     "output_type": "stream",
     "text": [
      "saaketh\n",
      "187\n",
      "120\n"
     ]
    }
   ],
   "source": [
    "name1=input()\n",
    "name2=input(\"enter the number:\")\n",
    "num=input(\"enter the number1:\")\n",
    "print(name1)\n",
    "print(name2)\n",
    "print(num)"
   ]
  },
  {
   "cell_type": "code",
   "execution_count": 4,
   "id": "3fed32da-de57-401b-acc6-2160e005c0f7",
   "metadata": {},
   "outputs": [
    {
     "name": "stdin",
     "output_type": "stream",
     "text": [
      "enter the number1: 100\n",
      "enter the number2: 200\n"
     ]
    },
    {
     "name": "stdout",
     "output_type": "stream",
     "text": [
      "300\n"
     ]
    }
   ],
   "source": [
    "n1=int(input(\"enter the number1:\"))\n",
    "n2=int(input(\"enter the number2:\"))\n",
    "add=int(n1)+int(n2)\n",
    "print(add)"
   ]
  },
  {
   "cell_type": "markdown",
   "id": "9318a802-e474-4dd8-a026-4109f5dbb5a4",
   "metadata": {},
   "source": [
    "### whenever int is there dont give the float values\n",
    "### if you want to give float values then apply float conversion\n",
    "### if you want to give int values then apply int conversion"
   ]
  },
  {
   "cell_type": "markdown",
   "id": "4d4c8783-95bc-4e5d-aa45-ed1fccae195c",
   "metadata": {},
   "source": [
    "**eval**"
   ]
  },
  {
   "cell_type": "markdown",
   "id": "26cd2542-2fb8-42c4-a82a-78bbd8bb3042",
   "metadata": {},
   "source": [
    "- eval meaning evaluate\n",
    "- evaluate will use for number only, not for english\n",
    "- evaluate will convert integer numbers to integers\n",
    "- eval will convert float number to float                                         "
   ]
  },
  {
   "cell_type": "code",
   "execution_count": 7,
   "id": "9d120ba8-e115-4fa3-9980-92b479a74c3e",
   "metadata": {},
   "outputs": [
    {
     "name": "stdin",
     "output_type": "stream",
     "text": [
      "enter the number: 100\n",
      "enter the number1: 200\n"
     ]
    },
    {
     "name": "stdout",
     "output_type": "stream",
     "text": [
      "300\n"
     ]
    }
   ],
   "source": [
    "n1=eval(input(\"enter the number:\"))\n",
    "n2=eval(input(\"enter the number1:\"))\n",
    "add=int(n1)+int(n2)\n",
    "print(add)"
   ]
  },
  {
   "cell_type": "markdown",
   "id": "afcd00ab-ecde-45eb-8fdb-9c6944d95cf8",
   "metadata": {},
   "source": []
  },
  {
   "cell_type": "code",
   "execution_count": null,
   "id": "ebd0b43a-9cbc-48ab-8e52-7fd17d16003a",
   "metadata": {},
   "outputs": [],
   "source": []
  }
 ],
 "metadata": {
  "kernelspec": {
   "display_name": "Python 3 (ipykernel)",
   "language": "python",
   "name": "python3"
  },
  "language_info": {
   "codemirror_mode": {
    "name": "ipython",
    "version": 3
   },
   "file_extension": ".py",
   "mimetype": "text/x-python",
   "name": "python",
   "nbconvert_exporter": "python",
   "pygments_lexer": "ipython3",
   "version": "3.11.7"
  }
 },
 "nbformat": 4,
 "nbformat_minor": 5
}
